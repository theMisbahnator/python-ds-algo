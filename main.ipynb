{
 "cells": [
  {
   "cell_type": "markdown",
   "id": "daa6ce41",
   "metadata": {},
   "source": [
    "# Hello!\n",
    "This is notebook dedicated to learning python syntax and programming patterns for solving Data structure and algorithm problems\n",
    "\n",
    "Things i want to cover:\n",
    "- maps/dictionaries\n",
    "- sets (hash/tree sets)\n",
    "- PriorityQueues\n",
    "- Trees\n",
    "- Recursive Backtracking\n",
    "- Dynamic Programming\n",
    "- linked lists \n",
    "- array tricks"
   ]
  },
  {
   "cell_type": "code",
   "execution_count": 1,
   "id": "469fba35",
   "metadata": {},
   "outputs": [
    {
     "name": "stdout",
     "output_type": "stream",
     "text": [
      "Hi\n"
     ]
    }
   ],
   "source": [
    "print(\"Hi\")"
   ]
  },
  {
   "cell_type": "markdown",
   "id": "d67bfb4c",
   "metadata": {},
   "source": [
    "## Dictionaries"
   ]
  },
  {
   "cell_type": "markdown",
   "id": "58d2cae4",
   "metadata": {},
   "source": [
    "### Creating a Dictionary (Map):"
   ]
  },
  {
   "cell_type": "markdown",
   "id": "390ba1b1",
   "metadata": {},
   "source": [
    "Empty Declaration"
   ]
  },
  {
   "cell_type": "code",
   "execution_count": 26,
   "id": "e3ff64be",
   "metadata": {},
   "outputs": [
    {
     "name": "stdout",
     "output_type": "stream",
     "text": [
      "{}\n"
     ]
    }
   ],
   "source": [
    "dict1 = {}\n",
    "print(dict1)"
   ]
  },
  {
   "cell_type": "markdown",
   "id": "a73489f1",
   "metadata": {},
   "source": [
    "Preset Dictionary"
   ]
  },
  {
   "cell_type": "code",
   "execution_count": 27,
   "id": "ddfc94af",
   "metadata": {},
   "outputs": [
    {
     "name": "stdout",
     "output_type": "stream",
     "text": [
      "{'hi': 'there', 'how': 'are you'}\n"
     ]
    }
   ],
   "source": [
    "dict1 = {\n",
    "    \"hi\" : \"there\", \n",
    "    \"how\" : \"are you\"\n",
    "}\n",
    "print(dict1)"
   ]
  },
  {
   "cell_type": "markdown",
   "id": "af859f9e",
   "metadata": {},
   "source": [
    "Constructor"
   ]
  },
  {
   "cell_type": "code",
   "execution_count": 28,
   "id": "c6ebf1b9",
   "metadata": {},
   "outputs": [
    {
     "name": "stdout",
     "output_type": "stream",
     "text": [
      "{'hi': 'there', 'how': 'are you', 'number': 3}\n"
     ]
    }
   ],
   "source": [
    "dict1 = dict(hi = \"there\", how = \"are you\", number = 3)\n",
    "print(dict1)"
   ]
  },
  {
   "cell_type": "markdown",
   "id": "b9cb968c",
   "metadata": {},
   "source": [
    "From tuples"
   ]
  },
  {
   "cell_type": "code",
   "execution_count": 30,
   "id": "bc6a5d90",
   "metadata": {},
   "outputs": [
    {
     "name": "stdout",
     "output_type": "stream",
     "text": [
      "{'key1': 'value1', 'key2': 'value2', 'key3': 'value3'}\n"
     ]
    }
   ],
   "source": [
    "dict1 = dict([('key1', 'value1'), ('key2', 'value2'), ('key3', 'value3')])\n",
    "print(dict1)"
   ]
  },
  {
   "cell_type": "markdown",
   "id": "c62b00bb",
   "metadata": {},
   "source": [
    "Zip function"
   ]
  },
  {
   "cell_type": "code",
   "execution_count": 40,
   "id": "2bf71e42",
   "metadata": {},
   "outputs": [
    {
     "name": "stdout",
     "output_type": "stream",
     "text": [
      "<zip object at 0x7fafd00093c0>\n",
      "<class 'zip'>\n",
      "{'key1': 'value1', 'key2': 'value2', 'key3': 'value3'}\n"
     ]
    }
   ],
   "source": [
    "keys = ['key1', 'key2', 'key3']\n",
    "values = ['value1', 'value2', 'value3']\n",
    "zipped = zip(keys, values)\n",
    "print(zipped)\n",
    "print(type(zipped))\n",
    "dict1 = dict(zipped)\n",
    "print(dict1)"
   ]
  },
  {
   "cell_type": "markdown",
   "id": "18875d6c",
   "metadata": {},
   "source": [
    "Dummy Values"
   ]
  },
  {
   "cell_type": "code",
   "execution_count": 39,
   "id": "7499aa88",
   "metadata": {},
   "outputs": [
    {
     "name": "stdout",
     "output_type": "stream",
     "text": [
      "{'key1': 'default', 'key2': 'default', 'key3': 'default'}\n"
     ]
    }
   ],
   "source": [
    "keys = ['key1', 'key2', 'key3']\n",
    "default_value = 'default'\n",
    "dict11 = dict.fromkeys(keys, default_value)\n",
    "print(dict11)"
   ]
  },
  {
   "cell_type": "markdown",
   "id": "ab4ad3d4",
   "metadata": {},
   "source": [
    "### Accessing a Dictionary"
   ]
  },
  {
   "cell_type": "markdown",
   "id": "d425b504",
   "metadata": {},
   "source": [
    "Getting the keys, values and items"
   ]
  },
  {
   "cell_type": "code",
   "execution_count": 62,
   "id": "f78561c4",
   "metadata": {},
   "outputs": [
    {
     "name": "stdout",
     "output_type": "stream",
     "text": [
      "dict_keys(['key1', 'key3', 'new key', 'key7'])\n",
      "\n",
      "dict_values(['changed', 'value3', 'hello', 'new elem'])\n",
      "\n",
      "dict_items([('key1', 'changed'), ('key3', 'value3'), ('new key', 'hello'), ('key7', 'new elem')])\n",
      "\n",
      "key1\n",
      "key3\n",
      "new key\n",
      "key7\n",
      "\n",
      "dict_keys(['key1', 'key3', 'new key', 'key7'])\n",
      "dict_keys(['key1', 'key3', 'new key', 'key7'])\n"
     ]
    }
   ],
   "source": [
    "# getting all the keys\n",
    "print(dict1.keys())\n",
    "print()\n",
    "\n",
    "# getting all the values\n",
    "print(dict1.values())\n",
    "print()\n",
    "\n",
    "# getting all the items in tuple form\n",
    "print(dict1.items())\n",
    "print()\n",
    "\n",
    "# access them through iteration\n",
    "for key in dict1.keys() :\n",
    "    print(key)\n",
    "print()\n",
    "\n",
    "# dict keys is mutable meaning when u add a new key/pair it changes\n",
    "test = dict1.keys()\n",
    "print(test)\n",
    "dict1[\"new key\"] = \"hello\"\n",
    "print(test)"
   ]
  },
  {
   "cell_type": "code",
   "execution_count": 50,
   "id": "7273947d",
   "metadata": {},
   "outputs": [
    {
     "name": "stdout",
     "output_type": "stream",
     "text": [
      "value2\n",
      "Key does not exist in the dictionary.\n"
     ]
    }
   ],
   "source": [
    "# using indexing with keys -> dict1[<keyname>]\n",
    "print(dict1['key2'])\n",
    "\n",
    "# getting a key that doesnt exist causes an error\n",
    "try:\n",
    "    value = my_dict['key4']  \n",
    "    print(value) # throws an error\n",
    "except KeyError:\n",
    "    print(\"Key does not exist in the dictionary.\")"
   ]
  },
  {
   "cell_type": "markdown",
   "id": "f3879aa8",
   "metadata": {},
   "source": [
    "Using the get function"
   ]
  },
  {
   "cell_type": "code",
   "execution_count": 52,
   "id": "4b23caa9",
   "metadata": {},
   "outputs": [
    {
     "name": "stdout",
     "output_type": "stream",
     "text": [
      "value1\n",
      "None\n",
      "default\n"
     ]
    }
   ],
   "source": [
    "value1 = dict1.get('key1')\n",
    "print(value1)  # Output: 'value1'\n",
    "\n",
    "# If the key doesn't exist, None is returned (or a default value if specified)\n",
    "value3 = dict1.get('key4')\n",
    "print(value3)  # Output: None\n",
    "\n",
    "# You can provide a default value to return if the key doesn't exist\n",
    "value3 = dict1.get('key4', 'default')\n",
    "print(value3)  # Output: 'default'"
   ]
  },
  {
   "cell_type": "markdown",
   "id": "a4efd60b",
   "metadata": {},
   "source": [
    "### Adding and Deleting keys"
   ]
  },
  {
   "cell_type": "markdown",
   "id": "9e3cfe1b",
   "metadata": {},
   "source": [
    "adding a element (also updates an element)"
   ]
  },
  {
   "cell_type": "code",
   "execution_count": 53,
   "id": "a39bcecc",
   "metadata": {},
   "outputs": [
    {
     "name": "stdout",
     "output_type": "stream",
     "text": [
      "{'key1': 'value1', 'key2': 'value2', 'key3': 'value3', 'new key': 'hello', 'key7': 'new elem'}\n"
     ]
    }
   ],
   "source": [
    "dict1['key7'] = \"new elem\"\n",
    "print(dict1)"
   ]
  },
  {
   "cell_type": "code",
   "execution_count": 54,
   "id": "19b9630a",
   "metadata": {},
   "outputs": [
    {
     "name": "stdout",
     "output_type": "stream",
     "text": [
      "{'key1': 'changed', 'key2': 'value2', 'key3': 'value3', 'new key': 'hello', 'key7': 'new elem'}\n"
     ]
    }
   ],
   "source": [
    "dict1['key1'] = \"changed\"\n",
    "print(dict1)"
   ]
  },
  {
   "cell_type": "raw",
   "id": "11010a54",
   "metadata": {},
   "source": [
    "removing an element"
   ]
  },
  {
   "cell_type": "code",
   "execution_count": 56,
   "id": "3a0d84f0",
   "metadata": {},
   "outputs": [
    {
     "name": "stdout",
     "output_type": "stream",
     "text": [
      "{'key1': 'changed', 'key3': 'value3', 'new key': 'hello', 'key7': 'new elem'}\n",
      "value2\n",
      "default\n"
     ]
    }
   ],
   "source": [
    "value = dict1.pop('key2')\n",
    "print(dict1)  # Output: {'key1': 'value1', 'key3': 'value3'}\n",
    "print(value)   # Output: 'value2'\n",
    "\n",
    "# If the key doesn't exist, a KeyError is raised (or a default value is returned if specified)\n",
    "value = dict1.pop('key8', 'default')\n",
    "print(value)  # Output: 'default'"
   ]
  },
  {
   "cell_type": "markdown",
   "id": "b8805786",
   "metadata": {},
   "source": [
    "### checking if a key exists"
   ]
  },
  {
   "cell_type": "markdown",
   "id": "36b9418b",
   "metadata": {},
   "source": [
    "Simple check"
   ]
  },
  {
   "cell_type": "code",
   "execution_count": 60,
   "id": "95e1ebf5",
   "metadata": {},
   "outputs": [
    {
     "name": "stdout",
     "output_type": "stream",
     "text": [
      "the key exists\n",
      "this is the not condition\n"
     ]
    }
   ],
   "source": [
    "if 'key3' in dict1 :\n",
    "    print(\"the key exists\")\n",
    "if 'key12' not in dict1 :\n",
    "    print(\"this is the not condition\")"
   ]
  },
  {
   "cell_type": "markdown",
   "id": "92b1ce13",
   "metadata": {},
   "source": [
    "### Dictionary Tricks"
   ]
  },
  {
   "cell_type": "markdown",
   "id": "e0ace1a7",
   "metadata": {},
   "source": [
    "merge dictionary"
   ]
  },
  {
   "cell_type": "code",
   "execution_count": 63,
   "id": "47eb3026",
   "metadata": {},
   "outputs": [
    {
     "name": "stdout",
     "output_type": "stream",
     "text": [
      "{'key1': 'value1', 'key2': 'value2'}\n"
     ]
    }
   ],
   "source": [
    "dict1 = {'key1': 'value1'}\n",
    "dict2 = {'key2': 'value2'}\n",
    "\n",
    "dict1.update(dict2)\n",
    "\n",
    "print(dict1)  # Output: {'key1': 'value1', 'key2': 'value2'}"
   ]
  },
  {
   "cell_type": "markdown",
   "id": "598b5be3",
   "metadata": {},
   "source": [
    "iterate through an array and create a freq map"
   ]
  },
  {
   "cell_type": "code",
   "execution_count": 66,
   "id": "759c4f9a",
   "metadata": {},
   "outputs": [
    {
     "name": "stdout",
     "output_type": "stream",
     "text": [
      "{1: 4, 3: 3, 4: 2, 2: 3, 5: 2, 7: 1}\n"
     ]
    }
   ],
   "source": [
    "list1 = [1, 3, 4, 2, 5, 1, 7, 3, 2, 2, 1, 1, 4, 3, 5]\n",
    "freq = {}\n",
    "for num in list1 :\n",
    "    freq[num] = freq.get(num, 0) + 1\n",
    "print(freq)"
   ]
  },
  {
   "cell_type": "markdown",
   "id": "d6430bd8",
   "metadata": {},
   "source": [
    "sorting a dictionary by its keys"
   ]
  },
  {
   "cell_type": "code",
   "execution_count": 67,
   "id": "3d1b7566",
   "metadata": {},
   "outputs": [
    {
     "name": "stdout",
     "output_type": "stream",
     "text": [
      "[(1, 4), (2, 3), (3, 3), (4, 2), (5, 2), (7, 1)]\n"
     ]
    }
   ],
   "source": [
    "sorted_by_keys = sorted(freq.items())\n",
    "print(sorted_by_keys)"
   ]
  },
  {
   "cell_type": "markdown",
   "id": "85b5d635",
   "metadata": {},
   "source": [
    "sort a dictionary by its values"
   ]
  },
  {
   "cell_type": "code",
   "execution_count": 69,
   "id": "ef999d4e",
   "metadata": {},
   "outputs": [
    {
     "name": "stdout",
     "output_type": "stream",
     "text": [
      "[(7, 1), (4, 2), (5, 2), (3, 3), (2, 3), (1, 4)]\n"
     ]
    }
   ],
   "source": [
    "# sort a map by its the 2nd item in the tuple\n",
    "sorted_by_keys = sorted(freq.items(), key=lambda x: x[1])\n",
    "print(sorted_by_keys)"
   ]
  },
  {
   "cell_type": "markdown",
   "id": "d4347445",
   "metadata": {},
   "source": [
    "sort in the opposite direction"
   ]
  },
  {
   "cell_type": "code",
   "execution_count": 71,
   "id": "07fea9b2",
   "metadata": {},
   "outputs": [
    {
     "name": "stdout",
     "output_type": "stream",
     "text": [
      "[(1, 4), (3, 3), (2, 3), (4, 2), (5, 2), (7, 1)]\n"
     ]
    }
   ],
   "source": [
    "sorted_by_keys = sorted(freq.items(), key=lambda x: x[1], reverse=True)\n",
    "print(sorted_by_keys)"
   ]
  },
  {
   "cell_type": "markdown",
   "id": "071115b0",
   "metadata": {},
   "source": [
    "## Sets"
   ]
  },
  {
   "cell_type": "code",
   "execution_count": null,
   "id": "be557171",
   "metadata": {},
   "outputs": [],
   "source": []
  }
 ],
 "metadata": {
  "kernelspec": {
   "display_name": "Python 3 (ipykernel)",
   "language": "python",
   "name": "python3"
  },
  "language_info": {
   "codemirror_mode": {
    "name": "ipython",
    "version": 3
   },
   "file_extension": ".py",
   "mimetype": "text/x-python",
   "name": "python",
   "nbconvert_exporter": "python",
   "pygments_lexer": "ipython3",
   "version": "3.9.7"
  }
 },
 "nbformat": 4,
 "nbformat_minor": 5
}
